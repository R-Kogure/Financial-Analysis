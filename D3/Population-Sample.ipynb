{
 "cells": [
  {
   "cell_type": "markdown",
   "metadata": {},
   "source": [
    "## Population and Sample"
   ]
  },
  {
   "cell_type": "code",
   "execution_count": 1,
   "metadata": {
    "collapsed": true
   },
   "outputs": [],
   "source": [
    "import pandas as pd\n",
    "import numpy as np"
   ]
  },
  {
   "cell_type": "code",
   "execution_count": 2,
   "metadata": {
    "collapsed": true
   },
   "outputs": [],
   "source": [
    "# Create a Population DataFrame with 10 data\n",
    "\n",
    "data = pd.DataFrame()\n",
    "data['Population'] = [47, 48, 85, 20, 19, 13, 72, 16, 50, 60]"
   ]
  },
  {
   "cell_type": "code",
   "execution_count": 3,
   "metadata": {},
   "outputs": [
    {
     "name": "stdout",
     "output_type": "stream",
     "text": [
      "3    20\n",
      "3    20\n",
      "5    13\n",
      "9    60\n",
      "2    85\n",
      "Name: Population, dtype: int64\n"
     ]
    }
   ],
   "source": [
    "# Draw sample with replacement\n",
    "randomsampling = data['Population'].sample(5,replace = True) # replace = True : 重複あり\n",
    "print(randomsampling)"
   ]
  },
  {
   "cell_type": "code",
   "execution_count": 4,
   "metadata": {},
   "outputs": [
    {
     "name": "stdout",
     "output_type": "stream",
     "text": [
      "8    50\n",
      "6    72\n",
      "5    13\n",
      "1    48\n",
      "9    60\n",
      "Name: Population, dtype: int64\n"
     ]
    }
   ],
   "source": [
    "# Draw sample without replacement\n",
    "randomsampling = data['Population'].sample(5) # default : replace = False\n",
    "print(randomsampling)"
   ]
  },
  {
   "cell_type": "markdown",
   "metadata": {},
   "source": [
    "## Parameters and Statics\n",
    "#### Parameters = Mean,Var,SD... (Population)\n",
    "#### Statics = Mean,Var,SD...  (Sample)"
   ]
  },
  {
   "cell_type": "code",
   "execution_count": 5,
   "metadata": {},
   "outputs": [
    {
     "name": "stdout",
     "output_type": "stream",
     "text": [
      "Population mean is  43.0\n",
      "Population variance is 571.8\n",
      "Population size is  10\n"
     ]
    }
   ],
   "source": [
    "# Calculate mean and var\n",
    "population_mean = data['Population'].mean()\n",
    "population_var = data['Population'].var(ddof = 0)\n",
    "\n",
    "print('Population mean is ', population_mean)\n",
    "print('Population variance is', population_var)\n",
    "print('Population size is ', data['Population'].shape[0]) # shape[0] : 行数を表示"
   ]
  },
  {
   "cell_type": "markdown",
   "metadata": {},
   "source": [
    "#### As it is a population calculation, the degrees of freedom correspond to the number of elements (ddof = 0)"
   ]
  },
  {
   "cell_type": "code",
   "execution_count": 6,
   "metadata": {},
   "outputs": [
    {
     "name": "stdout",
     "output_type": "stream",
     "text": [
      "Sample mean is 43.0\n",
      "Sample variance is  446.666666667\n"
     ]
    }
   ],
   "source": [
    "# Calculate sample mean, var size =10\n",
    "a_sample = data['Population'].sample(10, replace = True)\n",
    "sample_mean = a_sample.mean()\n",
    "sample_var = a_sample.var() #default ddof = 1\n",
    "\n",
    "print('Sample mean is', sample_mean)\n",
    "print('Sample variance is ', sample_var)"
   ]
  },
  {
   "cell_type": "markdown",
   "metadata": {},
   "source": [
    "## Average of an unbiased estimator"
   ]
  },
  {
   "cell_type": "code",
   "execution_count": 7,
   "metadata": {},
   "outputs": [
    {
     "data": {
      "text/plain": [
       "[499.87777777777774,\n",
       " 271.95555555555558,\n",
       " 625.65555555555557,\n",
       " 627.73333333333312,\n",
       " 788.48888888888882]"
      ]
     },
     "execution_count": 7,
     "metadata": {},
     "output_type": "execute_result"
    }
   ],
   "source": [
    "sample_length = 5000\n",
    "sample_var_collection = [data['Population'].sample(10, replace = True).var() for _ in range(sample_length)]\n",
    "sample_var_collection[:5]"
   ]
  },
  {
   "cell_type": "code",
   "execution_count": 8,
   "metadata": {},
   "outputs": [
    {
     "data": {
      "image/png": "[encoded data removed]",
      "text/plain": [
       "<matplotlib.figure.Figure at 0x7f41a3335358>"
      ]
     },
     "metadata": {},
     "output_type": "display_data"
    }
   ],
   "source": [
    "import matplotlib.pyplot as plt\n",
    "\n",
    "plt.hist(sample_var_collection, bins = 30)\n",
    "plt.xlabel(\"Var\")\n",
    "plt.ylabel(\"Frequency\")\n",
    "plt.title(\"Distribution of unbiased variance\")\n",
    "plt.show()"
   ]
  }
 ],
 "metadata": {
  "kernelspec": {
   "display_name": "Python 3",
   "language": "python",
   "name": "python3"
  },
  "language_info": {
   "codemirror_mode": {
    "name": "ipython",
    "version": 3
   },
   "file_extension": ".py",
   "mimetype": "text/x-python",
   "name": "python",
   "nbconvert_exporter": "python",
   "pygments_lexer": "ipython3",
   "version": "3.6.2"
  }
 },
 "nbformat": 4,
 "nbformat_minor": 2
}
